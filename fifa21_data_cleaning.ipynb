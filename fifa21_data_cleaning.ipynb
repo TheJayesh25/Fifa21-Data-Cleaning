{
 "cells": [
  {
   "cell_type": "markdown",
   "metadata": {},
   "source": [
    "# DATA CLEANING PROJECT\n",
    "**by Jayesh Suryawanshi**    \n",
    "  \n",
    "  \n",
    "  \n",
    "  **Information on the Data Source:**  \n",
    "The data source consists of an two csv files namely fifa21_raw_data.csv and fifa21 raw data v2.csv which consists of information on football players as of EA Sports' FIFA 21 release. It was scraped from the website sofifa.com and contains information on players' biometrics, demographics, stats, etc. The dataset is available on Kaggle but unlike most datasets available on the website, this dataset is highly unclean, messy and raw.  \n",
    "\n",
    "Let us clean it up and make it so that it can be used to perform analysis tasks, etc.  \n",
    "\n",
    "The tool we will use to do so is Python."
   ]
  },
  {
   "cell_type": "markdown",
   "metadata": {},
   "source": [
    "Let's start by importing the standard data cleaning and analysis libraries. We can import others later as and when required."
   ]
  },
  {
   "cell_type": "code",
   "execution_count": 1,
   "metadata": {},
   "outputs": [],
   "source": [
    "import pandas as pd\n",
    "import numpy as np\n",
    "import re\n",
    "import matplotlib.pyplot as plt\n",
    "import seaborn as sns\n",
    "pd.options.display.max_columns = 200"
   ]
  },
  {
   "cell_type": "markdown",
   "metadata": {},
   "source": [
    "Here, we will work with one of the two data files provided on Kaggle. This version is much more messy so we can put our data cleaning skills to the test.  \n",
    "  \n",
    "  Let's start by reading the data into a pandas dataframe."
   ]
  },
  {
   "cell_type": "code",
   "execution_count": 2,
   "metadata": {},
   "outputs": [
    {
     "name": "stderr",
     "output_type": "stream",
     "text": [
      "C:\\Users\\Jayesh\\AppData\\Local\\Temp\\ipykernel_22592\\830073151.py:1: DtypeWarning: Columns (76) have mixed types. Specify dtype option on import or set low_memory=False.\n",
      "  df = pd.read_csv('fifa21_raw_data.csv')\n"
     ]
    }
   ],
   "source": [
    "df = pd.read_csv('fifa21_raw_data.csv')"
   ]
  },
  {
   "cell_type": "code",
   "execution_count": 3,
   "metadata": {},
   "outputs": [
    {
     "data": {
      "text/plain": [
       "(18979, 77)"
      ]
     },
     "execution_count": 3,
     "metadata": {},
     "output_type": "execute_result"
    }
   ],
   "source": [
    "df.shape"
   ]
  },
  {
   "cell_type": "markdown",
   "metadata": {},
   "source": [
    "So, there are 77 columns and 18979 rows in this dataset. We can take a look at how the data actually looks."
   ]
  },
  {
   "cell_type": "code",
   "execution_count": 4,
   "metadata": {},
   "outputs": [
    {
     "data": {
      "text/html": [
       "<div>\n",
       "<style scoped>\n",
       "    .dataframe tbody tr th:only-of-type {\n",
       "        vertical-align: middle;\n",
       "    }\n",
       "\n",
       "    .dataframe tbody tr th {\n",
       "        vertical-align: top;\n",
       "    }\n",
       "\n",
       "    .dataframe thead th {\n",
       "        text-align: right;\n",
       "    }\n",
       "</style>\n",
       "<table border=\"1\" class=\"dataframe\">\n",
       "  <thead>\n",
       "    <tr style=\"text-align: right;\">\n",
       "      <th></th>\n",
       "      <th>photoUrl</th>\n",
       "      <th>LongName</th>\n",
       "      <th>playerUrl</th>\n",
       "      <th>Nationality</th>\n",
       "      <th>Positions</th>\n",
       "      <th>Name</th>\n",
       "      <th>Age</th>\n",
       "      <th>↓OVA</th>\n",
       "      <th>POT</th>\n",
       "      <th>Team &amp; Contract</th>\n",
       "      <th>ID</th>\n",
       "      <th>Height</th>\n",
       "      <th>Weight</th>\n",
       "      <th>foot</th>\n",
       "      <th>BOV</th>\n",
       "      <th>BP</th>\n",
       "      <th>Growth</th>\n",
       "      <th>Joined</th>\n",
       "      <th>Loan Date End</th>\n",
       "      <th>Value</th>\n",
       "      <th>Wage</th>\n",
       "      <th>Release Clause</th>\n",
       "      <th>Attacking</th>\n",
       "      <th>Crossing</th>\n",
       "      <th>Finishing</th>\n",
       "      <th>Heading Accuracy</th>\n",
       "      <th>Short Passing</th>\n",
       "      <th>Volleys</th>\n",
       "      <th>Skill</th>\n",
       "      <th>Dribbling</th>\n",
       "      <th>Curve</th>\n",
       "      <th>FK Accuracy</th>\n",
       "      <th>Long Passing</th>\n",
       "      <th>Ball Control</th>\n",
       "      <th>Movement</th>\n",
       "      <th>Acceleration</th>\n",
       "      <th>Sprint Speed</th>\n",
       "      <th>Agility</th>\n",
       "      <th>Reactions</th>\n",
       "      <th>Balance</th>\n",
       "      <th>Power</th>\n",
       "      <th>Shot Power</th>\n",
       "      <th>Jumping</th>\n",
       "      <th>Stamina</th>\n",
       "      <th>Strength</th>\n",
       "      <th>Long Shots</th>\n",
       "      <th>Mentality</th>\n",
       "      <th>Aggression</th>\n",
       "      <th>Interceptions</th>\n",
       "      <th>Positioning</th>\n",
       "      <th>Vision</th>\n",
       "      <th>Penalties</th>\n",
       "      <th>Composure</th>\n",
       "      <th>Defending</th>\n",
       "      <th>Marking</th>\n",
       "      <th>Standing Tackle</th>\n",
       "      <th>Sliding Tackle</th>\n",
       "      <th>Goalkeeping</th>\n",
       "      <th>GK Diving</th>\n",
       "      <th>GK Handling</th>\n",
       "      <th>GK Kicking</th>\n",
       "      <th>GK Positioning</th>\n",
       "      <th>GK Reflexes</th>\n",
       "      <th>Total Stats</th>\n",
       "      <th>Base Stats</th>\n",
       "      <th>W/F</th>\n",
       "      <th>SM</th>\n",
       "      <th>A/W</th>\n",
       "      <th>D/W</th>\n",
       "      <th>IR</th>\n",
       "      <th>PAC</th>\n",
       "      <th>SHO</th>\n",
       "      <th>PAS</th>\n",
       "      <th>DRI</th>\n",
       "      <th>DEF</th>\n",
       "      <th>PHY</th>\n",
       "      <th>Hits</th>\n",
       "    </tr>\n",
       "  </thead>\n",
       "  <tbody>\n",
       "    <tr>\n",
       "      <th>0</th>\n",
       "      <td>https://cdn.sofifa.com/players/158/023/21_60.png</td>\n",
       "      <td>Lionel Messi</td>\n",
       "      <td>http://sofifa.com/player/158023/lionel-messi/2...</td>\n",
       "      <td>Argentina</td>\n",
       "      <td>RW ST CF</td>\n",
       "      <td>L. Messi</td>\n",
       "      <td>33</td>\n",
       "      <td>93</td>\n",
       "      <td>93</td>\n",
       "      <td>\\n\\n\\n\\nFC Barcelona\\n2004 ~ 2021\\n\\n</td>\n",
       "      <td>158023</td>\n",
       "      <td>5'7\"</td>\n",
       "      <td>159lbs</td>\n",
       "      <td>Left</td>\n",
       "      <td>93</td>\n",
       "      <td>RW</td>\n",
       "      <td>0</td>\n",
       "      <td>Jul 1, 2004</td>\n",
       "      <td>NaN</td>\n",
       "      <td>€67.5M</td>\n",
       "      <td>€560K</td>\n",
       "      <td>€138.4M</td>\n",
       "      <td>429</td>\n",
       "      <td>85</td>\n",
       "      <td>95</td>\n",
       "      <td>70</td>\n",
       "      <td>91</td>\n",
       "      <td>88</td>\n",
       "      <td>470</td>\n",
       "      <td>96</td>\n",
       "      <td>93</td>\n",
       "      <td>94</td>\n",
       "      <td>91</td>\n",
       "      <td>96</td>\n",
       "      <td>451</td>\n",
       "      <td>91</td>\n",
       "      <td>80</td>\n",
       "      <td>91</td>\n",
       "      <td>94</td>\n",
       "      <td>95</td>\n",
       "      <td>389</td>\n",
       "      <td>86</td>\n",
       "      <td>68</td>\n",
       "      <td>72</td>\n",
       "      <td>69</td>\n",
       "      <td>94</td>\n",
       "      <td>347</td>\n",
       "      <td>44</td>\n",
       "      <td>40</td>\n",
       "      <td>93</td>\n",
       "      <td>95</td>\n",
       "      <td>75</td>\n",
       "      <td>96</td>\n",
       "      <td>91</td>\n",
       "      <td>32</td>\n",
       "      <td>35</td>\n",
       "      <td>24</td>\n",
       "      <td>54</td>\n",
       "      <td>6</td>\n",
       "      <td>11</td>\n",
       "      <td>15</td>\n",
       "      <td>14</td>\n",
       "      <td>8</td>\n",
       "      <td>2231</td>\n",
       "      <td>466</td>\n",
       "      <td>4 ★</td>\n",
       "      <td>4★</td>\n",
       "      <td>Medium</td>\n",
       "      <td>Low</td>\n",
       "      <td>5 ★</td>\n",
       "      <td>85</td>\n",
       "      <td>92</td>\n",
       "      <td>91</td>\n",
       "      <td>95</td>\n",
       "      <td>38</td>\n",
       "      <td>65</td>\n",
       "      <td>\\n372</td>\n",
       "    </tr>\n",
       "    <tr>\n",
       "      <th>1</th>\n",
       "      <td>https://cdn.sofifa.com/players/020/801/21_60.png</td>\n",
       "      <td>C. Ronaldo dos Santos Aveiro</td>\n",
       "      <td>http://sofifa.com/player/20801/c-ronaldo-dos-s...</td>\n",
       "      <td>Portugal</td>\n",
       "      <td>ST LW</td>\n",
       "      <td>Cristiano Ronaldo</td>\n",
       "      <td>35</td>\n",
       "      <td>92</td>\n",
       "      <td>92</td>\n",
       "      <td>\\n\\n\\n\\nJuventus\\n2018 ~ 2022\\n\\n</td>\n",
       "      <td>20801</td>\n",
       "      <td>6'2\"</td>\n",
       "      <td>183lbs</td>\n",
       "      <td>Right</td>\n",
       "      <td>92</td>\n",
       "      <td>ST</td>\n",
       "      <td>0</td>\n",
       "      <td>Jul 10, 2018</td>\n",
       "      <td>NaN</td>\n",
       "      <td>€46M</td>\n",
       "      <td>€220K</td>\n",
       "      <td>€75.9M</td>\n",
       "      <td>437</td>\n",
       "      <td>84</td>\n",
       "      <td>95</td>\n",
       "      <td>90</td>\n",
       "      <td>82</td>\n",
       "      <td>86</td>\n",
       "      <td>414</td>\n",
       "      <td>88</td>\n",
       "      <td>81</td>\n",
       "      <td>76</td>\n",
       "      <td>77</td>\n",
       "      <td>92</td>\n",
       "      <td>431</td>\n",
       "      <td>87</td>\n",
       "      <td>91</td>\n",
       "      <td>87</td>\n",
       "      <td>95</td>\n",
       "      <td>71</td>\n",
       "      <td>444</td>\n",
       "      <td>94</td>\n",
       "      <td>95</td>\n",
       "      <td>84</td>\n",
       "      <td>78</td>\n",
       "      <td>93</td>\n",
       "      <td>353</td>\n",
       "      <td>63</td>\n",
       "      <td>29</td>\n",
       "      <td>95</td>\n",
       "      <td>82</td>\n",
       "      <td>84</td>\n",
       "      <td>95</td>\n",
       "      <td>84</td>\n",
       "      <td>28</td>\n",
       "      <td>32</td>\n",
       "      <td>24</td>\n",
       "      <td>58</td>\n",
       "      <td>7</td>\n",
       "      <td>11</td>\n",
       "      <td>15</td>\n",
       "      <td>14</td>\n",
       "      <td>11</td>\n",
       "      <td>2221</td>\n",
       "      <td>464</td>\n",
       "      <td>4 ★</td>\n",
       "      <td>5★</td>\n",
       "      <td>High</td>\n",
       "      <td>Low</td>\n",
       "      <td>5 ★</td>\n",
       "      <td>89</td>\n",
       "      <td>93</td>\n",
       "      <td>81</td>\n",
       "      <td>89</td>\n",
       "      <td>35</td>\n",
       "      <td>77</td>\n",
       "      <td>\\n344</td>\n",
       "    </tr>\n",
       "    <tr>\n",
       "      <th>2</th>\n",
       "      <td>https://cdn.sofifa.com/players/200/389/21_60.png</td>\n",
       "      <td>Jan Oblak</td>\n",
       "      <td>http://sofifa.com/player/200389/jan-oblak/210005/</td>\n",
       "      <td>Slovenia</td>\n",
       "      <td>GK</td>\n",
       "      <td>J. Oblak</td>\n",
       "      <td>27</td>\n",
       "      <td>91</td>\n",
       "      <td>93</td>\n",
       "      <td>\\n\\n\\n\\nAtlético Madrid\\n2014 ~ 2023\\n\\n</td>\n",
       "      <td>200389</td>\n",
       "      <td>6'2\"</td>\n",
       "      <td>192lbs</td>\n",
       "      <td>Right</td>\n",
       "      <td>91</td>\n",
       "      <td>GK</td>\n",
       "      <td>2</td>\n",
       "      <td>Jul 16, 2014</td>\n",
       "      <td>NaN</td>\n",
       "      <td>€75M</td>\n",
       "      <td>€125K</td>\n",
       "      <td>€159.4M</td>\n",
       "      <td>95</td>\n",
       "      <td>13</td>\n",
       "      <td>11</td>\n",
       "      <td>15</td>\n",
       "      <td>43</td>\n",
       "      <td>13</td>\n",
       "      <td>109</td>\n",
       "      <td>12</td>\n",
       "      <td>13</td>\n",
       "      <td>14</td>\n",
       "      <td>40</td>\n",
       "      <td>30</td>\n",
       "      <td>307</td>\n",
       "      <td>43</td>\n",
       "      <td>60</td>\n",
       "      <td>67</td>\n",
       "      <td>88</td>\n",
       "      <td>49</td>\n",
       "      <td>268</td>\n",
       "      <td>59</td>\n",
       "      <td>78</td>\n",
       "      <td>41</td>\n",
       "      <td>78</td>\n",
       "      <td>12</td>\n",
       "      <td>140</td>\n",
       "      <td>34</td>\n",
       "      <td>19</td>\n",
       "      <td>11</td>\n",
       "      <td>65</td>\n",
       "      <td>11</td>\n",
       "      <td>68</td>\n",
       "      <td>57</td>\n",
       "      <td>27</td>\n",
       "      <td>12</td>\n",
       "      <td>18</td>\n",
       "      <td>437</td>\n",
       "      <td>87</td>\n",
       "      <td>92</td>\n",
       "      <td>78</td>\n",
       "      <td>90</td>\n",
       "      <td>90</td>\n",
       "      <td>1413</td>\n",
       "      <td>489</td>\n",
       "      <td>3 ★</td>\n",
       "      <td>1★</td>\n",
       "      <td>Medium</td>\n",
       "      <td>Medium</td>\n",
       "      <td>3 ★</td>\n",
       "      <td>87</td>\n",
       "      <td>92</td>\n",
       "      <td>78</td>\n",
       "      <td>90</td>\n",
       "      <td>52</td>\n",
       "      <td>90</td>\n",
       "      <td>\\n86</td>\n",
       "    </tr>\n",
       "    <tr>\n",
       "      <th>3</th>\n",
       "      <td>https://cdn.sofifa.com/players/192/985/21_60.png</td>\n",
       "      <td>Kevin De Bruyne</td>\n",
       "      <td>http://sofifa.com/player/192985/kevin-de-bruyn...</td>\n",
       "      <td>Belgium</td>\n",
       "      <td>CAM CM</td>\n",
       "      <td>K. De Bruyne</td>\n",
       "      <td>29</td>\n",
       "      <td>91</td>\n",
       "      <td>91</td>\n",
       "      <td>\\n\\n\\n\\nManchester City\\n2015 ~ 2023\\n\\n</td>\n",
       "      <td>192985</td>\n",
       "      <td>5'11\"</td>\n",
       "      <td>154lbs</td>\n",
       "      <td>Right</td>\n",
       "      <td>91</td>\n",
       "      <td>CAM</td>\n",
       "      <td>0</td>\n",
       "      <td>Aug 30, 2015</td>\n",
       "      <td>NaN</td>\n",
       "      <td>€87M</td>\n",
       "      <td>€370K</td>\n",
       "      <td>€161M</td>\n",
       "      <td>407</td>\n",
       "      <td>94</td>\n",
       "      <td>82</td>\n",
       "      <td>55</td>\n",
       "      <td>94</td>\n",
       "      <td>82</td>\n",
       "      <td>441</td>\n",
       "      <td>88</td>\n",
       "      <td>85</td>\n",
       "      <td>83</td>\n",
       "      <td>93</td>\n",
       "      <td>92</td>\n",
       "      <td>398</td>\n",
       "      <td>77</td>\n",
       "      <td>76</td>\n",
       "      <td>78</td>\n",
       "      <td>91</td>\n",
       "      <td>76</td>\n",
       "      <td>408</td>\n",
       "      <td>91</td>\n",
       "      <td>63</td>\n",
       "      <td>89</td>\n",
       "      <td>74</td>\n",
       "      <td>91</td>\n",
       "      <td>408</td>\n",
       "      <td>76</td>\n",
       "      <td>66</td>\n",
       "      <td>88</td>\n",
       "      <td>94</td>\n",
       "      <td>84</td>\n",
       "      <td>91</td>\n",
       "      <td>186</td>\n",
       "      <td>68</td>\n",
       "      <td>65</td>\n",
       "      <td>53</td>\n",
       "      <td>56</td>\n",
       "      <td>15</td>\n",
       "      <td>13</td>\n",
       "      <td>5</td>\n",
       "      <td>10</td>\n",
       "      <td>13</td>\n",
       "      <td>2304</td>\n",
       "      <td>485</td>\n",
       "      <td>5 ★</td>\n",
       "      <td>4★</td>\n",
       "      <td>High</td>\n",
       "      <td>High</td>\n",
       "      <td>4 ★</td>\n",
       "      <td>76</td>\n",
       "      <td>86</td>\n",
       "      <td>93</td>\n",
       "      <td>88</td>\n",
       "      <td>64</td>\n",
       "      <td>78</td>\n",
       "      <td>\\n163</td>\n",
       "    </tr>\n",
       "    <tr>\n",
       "      <th>4</th>\n",
       "      <td>https://cdn.sofifa.com/players/190/871/21_60.png</td>\n",
       "      <td>Neymar da Silva Santos Jr.</td>\n",
       "      <td>http://sofifa.com/player/190871/neymar-da-silv...</td>\n",
       "      <td>Brazil</td>\n",
       "      <td>LW CAM</td>\n",
       "      <td>Neymar Jr</td>\n",
       "      <td>28</td>\n",
       "      <td>91</td>\n",
       "      <td>91</td>\n",
       "      <td>\\n\\n\\n\\nParis Saint-Germain\\n2017 ~ 2022\\n\\n</td>\n",
       "      <td>190871</td>\n",
       "      <td>5'9\"</td>\n",
       "      <td>150lbs</td>\n",
       "      <td>Right</td>\n",
       "      <td>91</td>\n",
       "      <td>LW</td>\n",
       "      <td>0</td>\n",
       "      <td>Aug 3, 2017</td>\n",
       "      <td>NaN</td>\n",
       "      <td>€90M</td>\n",
       "      <td>€270K</td>\n",
       "      <td>€166.5M</td>\n",
       "      <td>408</td>\n",
       "      <td>85</td>\n",
       "      <td>87</td>\n",
       "      <td>62</td>\n",
       "      <td>87</td>\n",
       "      <td>87</td>\n",
       "      <td>448</td>\n",
       "      <td>95</td>\n",
       "      <td>88</td>\n",
       "      <td>89</td>\n",
       "      <td>81</td>\n",
       "      <td>95</td>\n",
       "      <td>453</td>\n",
       "      <td>94</td>\n",
       "      <td>89</td>\n",
       "      <td>96</td>\n",
       "      <td>91</td>\n",
       "      <td>83</td>\n",
       "      <td>357</td>\n",
       "      <td>80</td>\n",
       "      <td>62</td>\n",
       "      <td>81</td>\n",
       "      <td>50</td>\n",
       "      <td>84</td>\n",
       "      <td>356</td>\n",
       "      <td>51</td>\n",
       "      <td>36</td>\n",
       "      <td>87</td>\n",
       "      <td>90</td>\n",
       "      <td>92</td>\n",
       "      <td>93</td>\n",
       "      <td>94</td>\n",
       "      <td>35</td>\n",
       "      <td>30</td>\n",
       "      <td>29</td>\n",
       "      <td>59</td>\n",
       "      <td>9</td>\n",
       "      <td>9</td>\n",
       "      <td>15</td>\n",
       "      <td>15</td>\n",
       "      <td>11</td>\n",
       "      <td>2175</td>\n",
       "      <td>451</td>\n",
       "      <td>5 ★</td>\n",
       "      <td>5★</td>\n",
       "      <td>High</td>\n",
       "      <td>Medium</td>\n",
       "      <td>5 ★</td>\n",
       "      <td>91</td>\n",
       "      <td>85</td>\n",
       "      <td>86</td>\n",
       "      <td>94</td>\n",
       "      <td>36</td>\n",
       "      <td>59</td>\n",
       "      <td>\\n273</td>\n",
       "    </tr>\n",
       "  </tbody>\n",
       "</table>\n",
       "</div>"
      ],
      "text/plain": [
       "                                           photoUrl  \\\n",
       "0  https://cdn.sofifa.com/players/158/023/21_60.png   \n",
       "1  https://cdn.sofifa.com/players/020/801/21_60.png   \n",
       "2  https://cdn.sofifa.com/players/200/389/21_60.png   \n",
       "3  https://cdn.sofifa.com/players/192/985/21_60.png   \n",
       "4  https://cdn.sofifa.com/players/190/871/21_60.png   \n",
       "\n",
       "                       LongName  \\\n",
       "0                  Lionel Messi   \n",
       "1  C. Ronaldo dos Santos Aveiro   \n",
       "2                     Jan Oblak   \n",
       "3               Kevin De Bruyne   \n",
       "4    Neymar da Silva Santos Jr.   \n",
       "\n",
       "                                           playerUrl Nationality Positions  \\\n",
       "0  http://sofifa.com/player/158023/lionel-messi/2...   Argentina  RW ST CF   \n",
       "1  http://sofifa.com/player/20801/c-ronaldo-dos-s...    Portugal     ST LW   \n",
       "2  http://sofifa.com/player/200389/jan-oblak/210005/    Slovenia        GK   \n",
       "3  http://sofifa.com/player/192985/kevin-de-bruyn...     Belgium    CAM CM   \n",
       "4  http://sofifa.com/player/190871/neymar-da-silv...      Brazil    LW CAM   \n",
       "\n",
       "                Name  Age  ↓OVA  POT  \\\n",
       "0           L. Messi   33    93   93   \n",
       "1  Cristiano Ronaldo   35    92   92   \n",
       "2           J. Oblak   27    91   93   \n",
       "3       K. De Bruyne   29    91   91   \n",
       "4          Neymar Jr   28    91   91   \n",
       "\n",
       "                                Team & Contract      ID Height  Weight   foot  \\\n",
       "0         \\n\\n\\n\\nFC Barcelona\\n2004 ~ 2021\\n\\n  158023   5'7\"  159lbs   Left   \n",
       "1             \\n\\n\\n\\nJuventus\\n2018 ~ 2022\\n\\n   20801   6'2\"  183lbs  Right   \n",
       "2      \\n\\n\\n\\nAtlético Madrid\\n2014 ~ 2023\\n\\n  200389   6'2\"  192lbs  Right   \n",
       "3      \\n\\n\\n\\nManchester City\\n2015 ~ 2023\\n\\n  192985  5'11\"  154lbs  Right   \n",
       "4  \\n\\n\\n\\nParis Saint-Germain\\n2017 ~ 2022\\n\\n  190871   5'9\"  150lbs  Right   \n",
       "\n",
       "   BOV   BP  Growth        Joined Loan Date End   Value   Wage Release Clause  \\\n",
       "0   93   RW       0   Jul 1, 2004           NaN  €67.5M  €560K        €138.4M   \n",
       "1   92   ST       0  Jul 10, 2018           NaN    €46M  €220K         €75.9M   \n",
       "2   91   GK       2  Jul 16, 2014           NaN    €75M  €125K        €159.4M   \n",
       "3   91  CAM       0  Aug 30, 2015           NaN    €87M  €370K          €161M   \n",
       "4   91   LW       0   Aug 3, 2017           NaN    €90M  €270K        €166.5M   \n",
       "\n",
       "   Attacking  Crossing  Finishing  Heading Accuracy  Short Passing  Volleys  \\\n",
       "0        429        85         95                70             91       88   \n",
       "1        437        84         95                90             82       86   \n",
       "2         95        13         11                15             43       13   \n",
       "3        407        94         82                55             94       82   \n",
       "4        408        85         87                62             87       87   \n",
       "\n",
       "   Skill  Dribbling  Curve  FK Accuracy  Long Passing  Ball Control  Movement  \\\n",
       "0    470         96     93           94            91            96       451   \n",
       "1    414         88     81           76            77            92       431   \n",
       "2    109         12     13           14            40            30       307   \n",
       "3    441         88     85           83            93            92       398   \n",
       "4    448         95     88           89            81            95       453   \n",
       "\n",
       "   Acceleration  Sprint Speed  Agility  Reactions  Balance  Power  Shot Power  \\\n",
       "0            91            80       91         94       95    389          86   \n",
       "1            87            91       87         95       71    444          94   \n",
       "2            43            60       67         88       49    268          59   \n",
       "3            77            76       78         91       76    408          91   \n",
       "4            94            89       96         91       83    357          80   \n",
       "\n",
       "   Jumping  Stamina  Strength  Long Shots  Mentality  Aggression  \\\n",
       "0       68       72        69          94        347          44   \n",
       "1       95       84        78          93        353          63   \n",
       "2       78       41        78          12        140          34   \n",
       "3       63       89        74          91        408          76   \n",
       "4       62       81        50          84        356          51   \n",
       "\n",
       "   Interceptions  Positioning  Vision  Penalties  Composure  Defending  \\\n",
       "0             40           93      95         75         96         91   \n",
       "1             29           95      82         84         95         84   \n",
       "2             19           11      65         11         68         57   \n",
       "3             66           88      94         84         91        186   \n",
       "4             36           87      90         92         93         94   \n",
       "\n",
       "   Marking  Standing Tackle  Sliding Tackle  Goalkeeping  GK Diving  \\\n",
       "0       32               35              24           54          6   \n",
       "1       28               32              24           58          7   \n",
       "2       27               12              18          437         87   \n",
       "3       68               65              53           56         15   \n",
       "4       35               30              29           59          9   \n",
       "\n",
       "   GK Handling  GK Kicking  GK Positioning  GK Reflexes  Total Stats  \\\n",
       "0           11          15              14            8         2231   \n",
       "1           11          15              14           11         2221   \n",
       "2           92          78              90           90         1413   \n",
       "3           13           5              10           13         2304   \n",
       "4            9          15              15           11         2175   \n",
       "\n",
       "   Base Stats  W/F  SM     A/W     D/W   IR  PAC  SHO  PAS  DRI  DEF  PHY  \\\n",
       "0         466  4 ★  4★  Medium     Low  5 ★   85   92   91   95   38   65   \n",
       "1         464  4 ★  5★    High     Low  5 ★   89   93   81   89   35   77   \n",
       "2         489  3 ★  1★  Medium  Medium  3 ★   87   92   78   90   52   90   \n",
       "3         485  5 ★  4★    High    High  4 ★   76   86   93   88   64   78   \n",
       "4         451  5 ★  5★    High  Medium  5 ★   91   85   86   94   36   59   \n",
       "\n",
       "    Hits  \n",
       "0  \\n372  \n",
       "1  \\n344  \n",
       "2   \\n86  \n",
       "3  \\n163  \n",
       "4  \\n273  "
      ]
     },
     "execution_count": 4,
     "metadata": {},
     "output_type": "execute_result"
    }
   ],
   "source": [
    "df.head()"
   ]
  },
  {
   "cell_type": "code",
   "execution_count": 5,
   "metadata": {},
   "outputs": [
    {
     "name": "stdout",
     "output_type": "stream",
     "text": [
      "<class 'pandas.core.frame.DataFrame'>\n",
      "RangeIndex: 18979 entries, 0 to 18978\n",
      "Data columns (total 77 columns):\n",
      " #   Column            Non-Null Count  Dtype \n",
      "---  ------            --------------  ----- \n",
      " 0   photoUrl          18979 non-null  object\n",
      " 1   LongName          18979 non-null  object\n",
      " 2   playerUrl         18979 non-null  object\n",
      " 3   Nationality       18979 non-null  object\n",
      " 4   Positions         18979 non-null  object\n",
      " 5   Name              18979 non-null  object\n",
      " 6   Age               18979 non-null  int64 \n",
      " 7   ↓OVA              18979 non-null  int64 \n",
      " 8   POT               18979 non-null  int64 \n",
      " 9   Team & Contract   18979 non-null  object\n",
      " 10  ID                18979 non-null  int64 \n",
      " 11  Height            18979 non-null  object\n",
      " 12  Weight            18979 non-null  object\n",
      " 13  foot              18979 non-null  object\n",
      " 14  BOV               18979 non-null  int64 \n",
      " 15  BP                18979 non-null  object\n",
      " 16  Growth            18979 non-null  int64 \n",
      " 17  Joined            18979 non-null  object\n",
      " 18  Loan Date End     1013 non-null   object\n",
      " 19  Value             18979 non-null  object\n",
      " 20  Wage              18979 non-null  object\n",
      " 21  Release Clause    18979 non-null  object\n",
      " 22  Attacking         18979 non-null  int64 \n",
      " 23  Crossing          18979 non-null  int64 \n",
      " 24  Finishing         18979 non-null  int64 \n",
      " 25  Heading Accuracy  18979 non-null  int64 \n",
      " 26  Short Passing     18979 non-null  int64 \n",
      " 27  Volleys           18979 non-null  int64 \n",
      " 28  Skill             18979 non-null  int64 \n",
      " 29  Dribbling         18979 non-null  int64 \n",
      " 30  Curve             18979 non-null  int64 \n",
      " 31  FK Accuracy       18979 non-null  int64 \n",
      " 32  Long Passing      18979 non-null  int64 \n",
      " 33  Ball Control      18979 non-null  int64 \n",
      " 34  Movement          18979 non-null  int64 \n",
      " 35  Acceleration      18979 non-null  int64 \n",
      " 36  Sprint Speed      18979 non-null  int64 \n",
      " 37  Agility           18979 non-null  int64 \n",
      " 38  Reactions         18979 non-null  int64 \n",
      " 39  Balance           18979 non-null  int64 \n",
      " 40  Power             18979 non-null  int64 \n",
      " 41  Shot Power        18979 non-null  int64 \n",
      " 42  Jumping           18979 non-null  int64 \n",
      " 43  Stamina           18979 non-null  int64 \n",
      " 44  Strength          18979 non-null  int64 \n",
      " 45  Long Shots        18979 non-null  int64 \n",
      " 46  Mentality         18979 non-null  int64 \n",
      " 47  Aggression        18979 non-null  int64 \n",
      " 48  Interceptions     18979 non-null  int64 \n",
      " 49  Positioning       18979 non-null  int64 \n",
      " 50  Vision            18979 non-null  int64 \n",
      " 51  Penalties         18979 non-null  int64 \n",
      " 52  Composure         18979 non-null  int64 \n",
      " 53  Defending         18979 non-null  int64 \n",
      " 54  Marking           18979 non-null  int64 \n",
      " 55  Standing Tackle   18979 non-null  int64 \n",
      " 56  Sliding Tackle    18979 non-null  int64 \n",
      " 57  Goalkeeping       18979 non-null  int64 \n",
      " 58  GK Diving         18979 non-null  int64 \n",
      " 59  GK Handling       18979 non-null  int64 \n",
      " 60  GK Kicking        18979 non-null  int64 \n",
      " 61  GK Positioning    18979 non-null  int64 \n",
      " 62  GK Reflexes       18979 non-null  int64 \n",
      " 63  Total Stats       18979 non-null  int64 \n",
      " 64  Base Stats        18979 non-null  int64 \n",
      " 65  W/F               18979 non-null  object\n",
      " 66  SM                18979 non-null  object\n",
      " 67  A/W               18979 non-null  object\n",
      " 68  D/W               18979 non-null  object\n",
      " 69  IR                18979 non-null  object\n",
      " 70  PAC               18979 non-null  int64 \n",
      " 71  SHO               18979 non-null  int64 \n",
      " 72  PAS               18979 non-null  int64 \n",
      " 73  DRI               18979 non-null  int64 \n",
      " 74  DEF               18979 non-null  int64 \n",
      " 75  PHY               18979 non-null  int64 \n",
      " 76  Hits              18979 non-null  object\n",
      "dtypes: int64(55), object(22)\n",
      "memory usage: 11.1+ MB\n"
     ]
    }
   ],
   "source": [
    "df.info()"
   ]
  },
  {
   "cell_type": "markdown",
   "metadata": {},
   "source": [
    "This step helps us get an overall look regarding the various attributes (columns) in the dataset. If you look closely, the column **Loan Date End** consists of a lot of null values. It makes sense as in football, only some players leave on loan to other clubs so the players who are not on loan will not have a loan end date and that explains the null values in that column. We will handle it later."
   ]
  },
  {
   "cell_type": "code",
   "execution_count": 6,
   "metadata": {},
   "outputs": [
    {
     "data": {
      "text/plain": [
       "photoUrl       0\n",
       "LongName       0\n",
       "playerUrl      0\n",
       "Nationality    0\n",
       "Positions      0\n",
       "              ..\n",
       "PAS            0\n",
       "DRI            0\n",
       "DEF            0\n",
       "PHY            0\n",
       "Hits           0\n",
       "Length: 77, dtype: int64"
      ]
     },
     "execution_count": 6,
     "metadata": {},
     "output_type": "execute_result"
    }
   ],
   "source": [
    "df.isna().sum()"
   ]
  },
  {
   "cell_type": "code",
   "execution_count": 7,
   "metadata": {},
   "outputs": [
    {
     "data": {
      "text/plain": [
       "(18979, 77)"
      ]
     },
     "execution_count": 7,
     "metadata": {},
     "output_type": "execute_result"
    }
   ],
   "source": [
    "df[~df.isna()].shape"
   ]
  },
  {
   "cell_type": "markdown",
   "metadata": {},
   "source": [
    "There are no other columns with null values."
   ]
  },
  {
   "cell_type": "markdown",
   "metadata": {},
   "source": [
    "It can be seen that there are two columns that specify the player names, however one of the columns specifies it in short and it isn't much helpful. There is another column called growth which specifies the player's rating growth from previous season (previous fifa version) in numbers. It isn't significant either. So these two columns can be dropped."
   ]
  },
  {
   "cell_type": "code",
   "execution_count": 8,
   "metadata": {},
   "outputs": [],
   "source": [
    "df.drop(['Name','Growth'],axis='columns',inplace=True)"
   ]
  },
  {
   "cell_type": "markdown",
   "metadata": {},
   "source": [
    "Next, let's check out the weight column to see if there are any inconsistent units."
   ]
  },
  {
   "cell_type": "code",
   "execution_count": 9,
   "metadata": {},
   "outputs": [
    {
     "name": "stdout",
     "output_type": "stream",
     "text": [
      "There are 0 rows containing \"kg\".\n",
      "There are 18979 rows containing \"lbs\".\n"
     ]
    }
   ],
   "source": [
    "print(\"There are {num} rows containing \\\"kg\\\".\".format(num=df.Weight[df.Weight.str.contains(r\"kg\")].shape[0]))\n",
    "print(\"There are {num} rows containing \\\"lbs\\\".\".format(num=df.Weight[df.Weight.str.contains(r\"lbs\")].shape[0]))"
   ]
  },
  {
   "cell_type": "markdown",
   "metadata": {},
   "source": [
    "All weight units are specified in lbs."
   ]
  },
  {
   "cell_type": "code",
   "execution_count": 10,
   "metadata": {},
   "outputs": [],
   "source": [
    "# df['Weight'].unique()"
   ]
  },
  {
   "cell_type": "markdown",
   "metadata": {},
   "source": [
    "Similarly, let's check if there are any inconsistencies in the Height column."
   ]
  },
  {
   "cell_type": "code",
   "execution_count": 11,
   "metadata": {},
   "outputs": [
    {
     "name": "stdout",
     "output_type": "stream",
     "text": [
      "There are 0 rows containing \"cm\".\n"
     ]
    }
   ],
   "source": [
    "print(\"There are {num} rows containing \\\"cm\\\".\".format(num=df.Height[df.Height.str.contains(r\"cm\")].shape[0]))"
   ]
  },
  {
   "cell_type": "markdown",
   "metadata": {},
   "source": [
    "We can now make widespread changes to multiple columns and convert them to the readable format we require. This can be done using the pandas apply function. Before doing that, let's take a look at the columns and the unique values they consist of so that we can spot any odd values that don't match with the existing format. "
   ]
  },
  {
   "cell_type": "code",
   "execution_count": 12,
   "metadata": {},
   "outputs": [
    {
     "data": {
      "text/plain": [
       "array(['5\\'7\"', '6\\'2\"', '5\\'11\"', '5\\'9\"', '6\\'0\"', '5\\'10\"', '6\\'3\"',\n",
       "       '6\\'4\"', '6\\'1\"', '6\\'6\"', '5\\'8\"', '5\\'6\"', '6\\'5\"', '5\\'5\"',\n",
       "       '5\\'4\"', '6\\'7\"', '5\\'2\"', '5\\'3\"', '6\\'8\"', '5\\'1\"', '6\\'9\"'],\n",
       "      dtype=object)"
      ]
     },
     "execution_count": 12,
     "metadata": {},
     "output_type": "execute_result"
    }
   ],
   "source": [
    "df['Height'].unique()"
   ]
  },
  {
   "cell_type": "markdown",
   "metadata": {},
   "source": [
    "All values in the Height column are of the format - Height in ft and inches."
   ]
  },
  {
   "cell_type": "markdown",
   "metadata": {},
   "source": [
    "Let's convert all the values in the **Weight** column from lbs to kgs and all the values from the **Height** column to centimeters so that they can be represented numerically and not as text."
   ]
  },
  {
   "cell_type": "markdown",
   "metadata": {},
   "source": [
    "The **Value** column signifies the player's market value. On reviewing the dataframe, it can be seen that the values are accompanied with some abbreviations. Let's find such unique abbreviations."
   ]
  },
  {
   "cell_type": "code",
   "execution_count": 13,
   "metadata": {},
   "outputs": [
    {
     "data": {
      "text/plain": [
       "array(['M', '0', 'K'], dtype=object)"
      ]
     },
     "execution_count": 13,
     "metadata": {},
     "output_type": "execute_result"
    }
   ],
   "source": [
    "df['Value'].str[-1].unique()"
   ]
  },
  {
   "cell_type": "markdown",
   "metadata": {},
   "source": [
    "The unique abbreviations are 'K' and 'M' which means the player values are in thousands or millions. There are also some players whose value is not represented in either of the abbreviations but plain numbers."
   ]
  },
  {
   "cell_type": "markdown",
   "metadata": {},
   "source": [
    "Similarly, the **Wage** column represents the players wages."
   ]
  },
  {
   "cell_type": "code",
   "execution_count": 14,
   "metadata": {},
   "outputs": [
    {
     "data": {
      "text/plain": [
       "array(['K', '0'], dtype=object)"
      ]
     },
     "execution_count": 14,
     "metadata": {},
     "output_type": "execute_result"
    }
   ],
   "source": [
    "df['Wage'].str[-1].unique()"
   ]
  },
  {
   "cell_type": "markdown",
   "metadata": {},
   "source": [
    "We can convert the values with 'M' and 'K' abbevations to numeric by multiplying them with 1,000,000 and 1,000 respectively."
   ]
  },
  {
   "cell_type": "markdown",
   "metadata": {},
   "source": [
    "The W/F column represents the player's weak foot skills in stars. We find out the unique star ratings assigned to player's weak foots'."
   ]
  },
  {
   "cell_type": "code",
   "execution_count": 15,
   "metadata": {},
   "outputs": [
    {
     "data": {
      "text/plain": [
       "array(['4 ★', '3 ★', '5 ★', '2 ★', '1 ★'], dtype=object)"
      ]
     },
     "execution_count": 15,
     "metadata": {},
     "output_type": "execute_result"
    }
   ],
   "source": [
    "df['W/F'].unique()"
   ]
  },
  {
   "cell_type": "markdown",
   "metadata": {},
   "source": [
    "Similarly, SM refers to Skill Moves."
   ]
  },
  {
   "cell_type": "code",
   "execution_count": 16,
   "metadata": {},
   "outputs": [
    {
     "data": {
      "text/plain": [
       "array(['4★', '5★', '1★', '2★', '3★'], dtype=object)"
      ]
     },
     "execution_count": 16,
     "metadata": {},
     "output_type": "execute_result"
    }
   ],
   "source": [
    "df['SM'].unique()"
   ]
  },
  {
   "cell_type": "markdown",
   "metadata": {},
   "source": [
    "IR refers to International Reputation."
   ]
  },
  {
   "cell_type": "code",
   "execution_count": 17,
   "metadata": {},
   "outputs": [
    {
     "data": {
      "text/plain": [
       "array(['5 ★', '3 ★', '4 ★', '2 ★', '1 ★'], dtype=object)"
      ]
     },
     "execution_count": 17,
     "metadata": {},
     "output_type": "execute_result"
    }
   ],
   "source": [
    "df['IR'].unique()"
   ]
  },
  {
   "cell_type": "markdown",
   "metadata": {},
   "source": [
    "So, for the W/F, SM and IR columns, we can remove the ★ and just represent the values with integers in the range [1,5]"
   ]
  },
  {
   "cell_type": "markdown",
   "metadata": {},
   "source": [
    "Now, that we have an idea of what changes we need to make to each of the columns discussed above, we can write a function for the same and apply it to the entire dataframe."
   ]
  },
  {
   "cell_type": "code",
   "execution_count": 18,
   "metadata": {},
   "outputs": [],
   "source": [
    "def changes(row):\n",
    "    a = row['Height']\n",
    "    a=\"\".join(ch for ch in a if ch.isnumeric()) # strip of the string to extract numerical values and remove the ' and \" symbols\n",
    "    row['Height'] = (int(a[0])*12+int(a[1:]))*2.54 # Using type conversion and formulas to convert the extracted numerical values for feet and inches to centimeters\n",
    "    \n",
    "    b = row['Weight']\n",
    "    row['Weight'] = round(int(\"\".join(ch for ch in b if ch.isnumeric()))*0.45359237,2) # extracting numericals values from the string, converting it to kgs and finally rounding it up to 2 decimals\n",
    "\n",
    "    c = row['Value']\n",
    "    if c[-1] == 'M' or c[-1] == 'm':\n",
    "       row['Value'] = int(\"\".join(ch for ch in c if ch.isnumeric()))*1000000 # extracting numericals values from the string, typecasting it to integer and multiplying it with 1000000 if the abbreviation it accompanied was 'M'\n",
    "    elif c[-1] == 'K' or c[-1] == 'k':\n",
    "       row['Value'] = int(\"\".join(ch for ch in c if ch.isnumeric()))*1000 # extracting numericals values from the string, typecasting it to integer and multiplying it with 1000 if the abbreviation it accompanied was 'K'\n",
    "    else:\n",
    "       row['Value'] = int(\"\".join(ch for ch in c if ch.isnumeric())) # if the player value had no abbreviation, then it indicates that it consisted of plain numbers, so we strip of any spaces or special characters and typecast it to integer\n",
    "\n",
    "    d = row['Wage']\n",
    "    if d[-1] == 'M' or d[-1] == 'm':\n",
    "       row['Wage'] = int(\"\".join(ch for ch in d if ch.isnumeric()))*1000000 # extracting numericals values from the string, typecasting it to integer and multiplying it with 1000000 if the abbreviation it accompanied was 'M'\n",
    "    elif d[-1] == 'K' or d[-1] == 'k':\n",
    "       row['Wage'] = int(\"\".join(ch for ch in d if ch.isnumeric()))*1000 # extracting numericals values from the string, typecasting it to integer and multiplying it with 1000 if the abbreviation it accompanied was 'K'\n",
    "    else:\n",
    "       row['Wage'] = int(\"\".join(ch for ch in d if ch.isnumeric())) # if the player wages had no abbreviation, then it indicates that it consisted of plain numbers, so we strip of any spaces or special characters and typecast it to integer\n",
    "\n",
    "    e = row['Release Clause']\n",
    "    if e[-1] == 'M' or e[-1] == 'm':\n",
    "       row['Release Clause'] = int(\"\".join(ch for ch in e if ch.isnumeric()))*1000000 # extracting numericals values from the string, typecasting it to integer and multiplying it with 1000000 if the abbreviation it accompanied was 'M'\n",
    "    elif e[-1] == 'K' or e[-1] == 'k':\n",
    "       row['Release Clause'] = int(\"\".join(ch for ch in e if ch.isnumeric()))*1000 # extracting numericals values from the string, typecasting it to integer and multiplying it with 1000 if the abbreviation it accompanied was 'K'\n",
    "    else:\n",
    "       row['Release Clause'] = int(\"\".join(ch for ch in e if ch.isnumeric())) # if the player value had no abbreviation, then it indicates that it consisted of plain numbers, so we strip of any spaces or special characters and typecast it to integer\n",
    "   \n",
    "    f = row['W/F']\n",
    "    row['W/F'] = int(\"\".join(ch for ch in f if ch.isnumeric())) # stripping the stars and converting the rating to integer\n",
    "\n",
    "    g = row['SM']\n",
    "    row['SM'] = int(\"\".join(ch for ch in g if ch.isnumeric())) # stripping the stars and converting the rating to integer\n",
    "    \n",
    "    h = row['IR']\n",
    "    row['IR'] = int(\"\".join(ch for ch in h if ch.isnumeric())) # stripping the stars and converting the rating to integer\n",
    "    \n",
    "    return row\n",
    "\n",
    "df = df.apply(changes,axis='columns')"
   ]
  },
  {
   "cell_type": "markdown",
   "metadata": {},
   "source": [
    "Now that the required changes have been applied and the columns are converted to the desired format, we rename the columns as some column names are represented using the shortforms of the actual names."
   ]
  },
  {
   "cell_type": "code",
   "execution_count": 19,
   "metadata": {},
   "outputs": [],
   "source": [
    "df.rename(columns={'Height':'Height (cm)','Weight':'Weight (kg)','Value':'Value (Euros)','Wage':'Wages (Euros)','Release Clause':'Release Clause (Euros)','W/F':'Weak Foot','SM':'Skill Moves','IR':'International Reputation','A/W':'Attack Workrate','D/W':'Defense Workrate','BOV':'Highest Rating','BP':'Best Position','POT':'Potential','↓OVA':'Rating','foot':'Strong foot','LongName':'Name'},inplace=True)"
   ]
  },
  {
   "cell_type": "markdown",
   "metadata": {},
   "source": [
    "Now, there's a column **Team & Contract** which consists of the players' club name and contract validity. Let's split it into two separate columns and remove the unnecessary 'newline' characters."
   ]
  },
  {
   "cell_type": "code",
   "execution_count": 20,
   "metadata": {},
   "outputs": [],
   "source": [
    "# creating two new columns and initially assigning them the same values as the Team & Contract column\n",
    "df['Club'] = df['Team & Contract']  \n",
    "df['Contract'] = df['Team & Contract']\n",
    "def changes(row):\n",
    "    a = row['Team & Contract'].split('\\n') # splitting the team and contract column into a list based on the newline character\n",
    "    ele=''\n",
    "    x=[i for i in a if i!=ele]\n",
    "    row['Club'] = x[0] # assigning the first element of the list to the club column\n",
    "    row['Contract'] = x[1]  # assigning the second element to the contract column\n",
    "\n",
    "    \n",
    "    return row\n",
    "\n",
    "df = df.apply(changes,axis='columns')\n",
    "df.drop(['Team & Contract'], axis='columns',inplace=True) # The Team & Contract column is no longer required so we just go ahead and drop it.\n",
    "    \n",
    "    "
   ]
  },
  {
   "cell_type": "markdown",
   "metadata": {},
   "source": [
    "Next let's check if there are any Clubs with numbers or other special charcters in their name."
   ]
  },
  {
   "cell_type": "code",
   "execution_count": 21,
   "metadata": {},
   "outputs": [
    {
     "data": {
      "text/plain": [
       "1. FSV Mainz 05          32\n",
       "1. FC Köln               31\n",
       "1. FC Nürnberg           30\n",
       "1. FC Heidenheim 1846    30\n",
       "1. FC Union Berlin       28\n",
       "1. FC Kaiserslautern     28\n",
       "1. FC Magdeburg          28\n",
       "1. FC Saarbrücken        27\n",
       "Name: Club, dtype: int64"
      ]
     },
     "execution_count": 21,
     "metadata": {},
     "output_type": "execute_result"
    }
   ],
   "source": [
    "df.Club[df.Club.str.contains(r\"^\\d+\")].value_counts()"
   ]
  },
  {
   "cell_type": "markdown",
   "metadata": {},
   "source": [
    "It can be seen that there are some clubs whose names are starting with '1.'. We should address this problem."
   ]
  },
  {
   "cell_type": "code",
   "execution_count": 22,
   "metadata": {},
   "outputs": [],
   "source": [
    "df['Club'] = df['Club'].map(lambda x: x.replace('1. ',''))"
   ]
  },
  {
   "cell_type": "code",
   "execution_count": 23,
   "metadata": {},
   "outputs": [
    {
     "data": {
      "text/plain": [
       "Series([], Name: Club, dtype: int64)"
      ]
     },
     "execution_count": 23,
     "metadata": {},
     "output_type": "execute_result"
    }
   ],
   "source": [
    "df.Club[df.Club.str.contains(r\"^\\d+\")].value_counts()"
   ]
  },
  {
   "cell_type": "markdown",
   "metadata": {},
   "source": [
    "Next let's take a look at the unique contract lengths and periods"
   ]
  },
  {
   "cell_type": "code",
   "execution_count": 24,
   "metadata": {},
   "outputs": [
    {
     "data": {
      "text/plain": [
       "2019 ~ 2021    1706\n",
       "2020 ~ 2022    1445\n",
       "2020 ~ 2021    1440\n",
       "2019 ~ 2022    1236\n",
       "2018 ~ 2021    1163\n",
       "Name: Contract, dtype: int64"
      ]
     },
     "execution_count": 24,
     "metadata": {},
     "output_type": "execute_result"
    }
   ],
   "source": [
    "df['Contract'].value_counts().head()"
   ]
  },
  {
   "cell_type": "markdown",
   "metadata": {},
   "source": [
    "Now that we have an idea about what the Contract column looks like, let's get a look at whether there are other values in the column that don't correspond to the 'YEAR ~ YEAR' format."
   ]
  },
  {
   "cell_type": "code",
   "execution_count": 25,
   "metadata": {},
   "outputs": [
    {
     "data": {
      "text/plain": [
       "Jun 30, 2021 On Loan    770\n",
       "Free                    238\n",
       "Dec 31, 2020 On Loan    100\n",
       "May 31, 2021 On Loan     30\n",
       "Dec 31, 2021 On Loan     22\n",
       "Jan 31, 2021 On Loan     18\n",
       "Jan 1, 2021 On Loan      15\n",
       "Jun 30, 2022 On Loan     15\n",
       "Nov 30, 2020 On Loan      7\n",
       "Jun 23, 2021 On Loan      7\n",
       "Nov 27, 2021 On Loan      6\n",
       "Nov 22, 2020 On Loan      5\n",
       "Jan 3, 2021 On Loan       3\n",
       "Jan 4, 2021 On Loan       2\n",
       "Aug 31, 2021 On Loan      2\n",
       "May 31, 2022 On Loan      2\n",
       "Dec 30, 2020 On Loan      1\n",
       "Jul 31, 2021 On Loan      1\n",
       "Dec 30, 2021 On Loan      1\n",
       "Jun 30, 2023 On Loan      1\n",
       "Jan 17, 2021 On Loan      1\n",
       "Jul 1, 2021 On Loan       1\n",
       "Jul 5, 2021 On Loan       1\n",
       "Jan 30, 2021 On Loan      1\n",
       "Aug 1, 2021 On Loan       1\n",
       "Name: Contract, dtype: int64"
      ]
     },
     "execution_count": 25,
     "metadata": {},
     "output_type": "execute_result"
    }
   ],
   "source": [
    "df['Contract'][~df['Contract'].str.contains('~')].value_counts()"
   ]
  },
  {
   "cell_type": "markdown",
   "metadata": {},
   "source": [
    "It can be seen that there are infact Contract end dates that don't match the format 'YEAR ~ YEAR', and they all belong to players on loan. There are also players who are under no contract that are represented using 'Free'."
   ]
  },
  {
   "cell_type": "markdown",
   "metadata": {},
   "source": [
    "Let's make some changes and simplify things a bit. We will replace ' ~ ' with '-', 'Free' with 'No contract' and '(Date) On Loan' with 'Till (Date)'."
   ]
  },
  {
   "cell_type": "code",
   "execution_count": 26,
   "metadata": {},
   "outputs": [],
   "source": [
    "df['Contract'] = df['Contract'].map(lambda x:x.replace(' ~ ','-').replace(' On Loan',''))\n",
    "df['Contract'] = df['Contract'].map(lambda x: x if '-' in x or 'Free' in x else 'Till ' + x)\n",
    "df['Contract'] = df['Contract'].map(lambda x: 'No contract' if 'Free' in x else x)"
   ]
  },
  {
   "cell_type": "markdown",
   "metadata": {},
   "source": [
    "Let's take a look at players who are under no contract. As they are under no contract, they should belong to no clubs. Let's check out what value is assigned under the Club column to such players."
   ]
  },
  {
   "cell_type": "code",
   "execution_count": 27,
   "metadata": {},
   "outputs": [
    {
     "data": {
      "text/plain": [
       "array([' Brazil', ' Ecuador', ' Uruguay', ' Colombia', ' Russia',\n",
       "       ' Mexico', ' Peru', ' Sweden', ' Paraguay', ' Australia', ' Egypt',\n",
       "       ' Canada', ' Norway', ' South Africa', ' Hungary', ' Slovenia',\n",
       "       ' Ivory Coast', ' Bulgaria', ' Iceland', ' Greece', ' Poland',\n",
       "       ' Venezuela', ' Bolivia', ' Romania', ' Northern Ireland',\n",
       "       ' Wales', ' Chile', ' Finland', ' Cameroon', ' China PR', ' India',\n",
       "       ' New Zealand', ' United Arab Emirates'], dtype=object)"
      ]
     },
     "execution_count": 27,
     "metadata": {},
     "output_type": "execute_result"
    }
   ],
   "source": [
    "df[df['Contract']=='No contract']['Club'].unique()"
   ]
  },
  {
   "attachments": {},
   "cell_type": "markdown",
   "metadata": {},
   "source": [
    "It is seen that the players who have no contract, have their country names mentioned in the clubs column. We can take care of this by assigning the value 'No club' to the Club column for all players under no contract."
   ]
  },
  {
   "cell_type": "code",
   "execution_count": 28,
   "metadata": {},
   "outputs": [],
   "source": [
    "def changes(row):\n",
    "    if row['Contract'] == 'No contract':\n",
    "        row['Club'] = 'No club'\n",
    "    return row\n",
    "df = df.apply(changes,axis='columns')\n",
    "\n",
    "# df2['Club'] = df2['Club'].apply(lambda x: 'No club' if 'No contract' in df2['Contract'] else x) can also be used"
   ]
  },
  {
   "cell_type": "code",
   "execution_count": 29,
   "metadata": {},
   "outputs": [
    {
     "data": {
      "text/plain": [
       "array(['No club'], dtype=object)"
      ]
     },
     "execution_count": 29,
     "metadata": {},
     "output_type": "execute_result"
    }
   ],
   "source": [
    "df[df['Contract']=='No contract']['Club'].unique()"
   ]
  },
  {
   "cell_type": "markdown",
   "metadata": {},
   "source": [
    "Players can play at different positions. In the **Positions** column, the various positions for each player are separated using spaces. It makes it difficult to read and interpret. We assign a proper separator so that positions become readable."
   ]
  },
  {
   "cell_type": "code",
   "execution_count": 30,
   "metadata": {},
   "outputs": [],
   "source": [
    "df['Positions'] = df['Positions'].map(lambda x:x.replace(' ',', '))"
   ]
  },
  {
   "cell_type": "markdown",
   "metadata": {},
   "source": [
    "When I opened one of the photo URLs, the sites were irresponsive. After a bit of research this is due to a domain name change in the site from where the data is scraped. We thus need to change the url format and can do so for each URL using the following code."
   ]
  },
  {
   "cell_type": "code",
   "execution_count": 31,
   "metadata": {},
   "outputs": [],
   "source": [
    "df['photoUrl'] = df['photoUrl'].map(lambda x:x.replace('60.png','120.png').replace('.com','.net'))\n",
    "# df['photoUrl'] = df['photoUrl'].map(lambda x:x.replace('.com','.net')) can also be used"
   ]
  },
  {
   "cell_type": "markdown",
   "metadata": {},
   "source": [
    "There is another column **Hits** with newline characters and other abbreviations. It will be better represented as a numeric column."
   ]
  },
  {
   "cell_type": "code",
   "execution_count": 32,
   "metadata": {},
   "outputs": [
    {
     "data": {
      "text/plain": [
       "array(['\\n372', '\\n344', '\\n86', '\\n163', '\\n273', '\\n182', '\\n646',\n",
       "       '\\n79', '\\n164', '\\n170', '\\n93', '\\n131', '\\n89', '\\n90', '\\n169',\n",
       "       '\\n187', '\\n103', '\\n317', '\\n239', '\\n56', '\\n130', '\\n229',\n",
       "       '\\n124', '\\n172', '\\n114', '\\n46', '\\n663', '\\n479', '\\n203',\n",
       "       '\\n198', '\\n122', '\\n565', '\\n152', '\\n140', '\\n276', '\\n209',\n",
       "       '\\n25', '\\n136', '\\n109', '\\n139', '\\n42', '\\n99', '\\n137',\n",
       "       '\\n166', '\\n80', '\\n104', '\\n150', '\\n112', '\\n285', '\\n133',\n",
       "       '\\n96', '\\n69', '\\n143', '\\n100', '\\n38', '\\n83', '\\n67', '\\n207',\n",
       "       '\\n416', '\\n315', '\\n206', '\\n424', '\\n191', '\\n454', '\\n271',\n",
       "       '\\n249', '\\n121', '\\n246', '\\n171', '\\n148', '\\n329', '\\n70',\n",
       "       '\\n97', '\\n73', '\\n210', '\\n82', '\\n146', '\\n62', '\\n165', '\\n129',\n",
       "       '\\n162', '\\n35', '\\n65', '\\n47', '\\n77', '\\n106', '\\n84', '\\n1.3K',\n",
       "       '\\n310', '\\n181', '\\n364', '\\n200', '\\n141', '\\n134', '\\n259',\n",
       "       '\\n309', '\\n367', '\\n224', '\\n211', '\\n60', '\\n176', '\\n108',\n",
       "       '\\n63', '\\n111', '\\n52', '\\n59', '\\n350', '\\n54', '\\n117', '\\n27',\n",
       "       '\\n91', '\\n365', '\\n312', '\\n286', '\\n157', '\\n291', '\\n245',\n",
       "       '\\n258', '\\n233', '\\n767', '\\n288', '\\n57', '\\n115', '\\n123',\n",
       "       '\\n142', '\\n149', '\\n227', '\\n75', '\\n53', '\\n113', '\\n71', '\\n92',\n",
       "       '\\n144', '\\n132', '\\n125', '\\n45', '\\n158', '\\n55', '\\n43',\n",
       "       '\\n107', '\\n24', '\\n212', '\\n21', '\\n87', '\\n39', '\\n98', '\\n192',\n",
       "       '\\n391', '\\n23', '\\n26', '\\n13', '\\n185', '\\n177', '\\n272',\n",
       "       '\\n193', '\\n225', '\\n78', '\\n88', '\\n37', '\\n168', '\\n85', '\\n34',\n",
       "       '\\n1.5K', '\\n48', '\\n32', '\\n215', '\\n41', '\\n20', '\\n61', '\\n68',\n",
       "       '\\n58', '\\n19', '\\n186', '\\n17', '\\n241', '\\n574', '\\n338',\n",
       "       '\\n274', '\\n2.9K', '\\n492', '\\n670', '\\n324', '\\n352', '\\n31',\n",
       "       '\\n30', '\\n300', '\\n189', '\\n595', '\\n127', '\\n173', '\\n159',\n",
       "       '\\n49', '\\n36', '\\n102', '\\n280', '\\n12', '\\n14', '\\n50', '\\n76',\n",
       "       '\\n95', '\\n51', '\\n40', '\\n22', '\\n11', '\\n9', '\\n16', '\\n10',\n",
       "       '\\n5', '\\n222', '\\n303', '\\n268', '\\n434', '\\n256', '\\n247',\n",
       "       '\\n248', '\\n354', '\\n289', '\\n269', '\\n237', '\\n183', '\\n6',\n",
       "       '\\n217', '\\n155', '\\n523', '\\n921', '\\n264', '\\n72', '\\n29',\n",
       "       '\\n476', '\\n28', '\\n205', '\\n81', '\\n393', '\\n147', '\\n74', '\\n66',\n",
       "       '\\n33', '\\n44', '\\n314', '\\n428', '\\n261', '\\n199', '\\n281',\n",
       "       '\\n316', '\\n118', '\\n411', '\\n396', '\\n4', '\\n794', '\\n243',\n",
       "       '\\n204', '\\n219', '\\n167', '\\n18', '\\n356', '\\n120', '\\n561',\n",
       "       '\\n8', '\\n101', '\\n984', '\\n2K', '\\n603', '\\n526', '\\n1K', '\\n343',\n",
       "       '\\n190', '\\n154', '\\n673', '\\n194', '\\n556', '\\n128', '\\n161',\n",
       "       '\\n494', '\\n196', '\\n232', '\\n332', '\\n283', '\\n138', '\\n15',\n",
       "       '\\n64', '\\n94', '\\n3', '\\n7', '\\n308', '\\n382', '\\n345', '\\n275',\n",
       "       '\\n313', '\\n398', '\\n153', '\\n935', '\\n201', '\\n699', '\\n758',\n",
       "       '\\n745', '\\n184', '\\n1', '\\n501', '\\n145', '\\n119', '\\n255',\n",
       "       '\\n1.2K', '\\n2', '\\n253', '\\n1.7K', '\\n156', '\\n238', '\\n221',\n",
       "       '\\n175', '\\n151', '\\n500', '\\n731', '\\n532', '\\n466', '\\n535',\n",
       "       '\\n297', '\\n265', '\\n599', '\\n234', '\\n180', '\\n195', '\\n116',\n",
       "       '\\n423', '\\n266', '\\n560', '\\n188', '\\n244', '\\n216', '\\n496',\n",
       "       '\\n257', '\\n226', '\\n105', '\\n412', '\\n220', '\\n970', '\\n135',\n",
       "       '\\n360', '\\n178', '\\n1.1K', '\\n326', '\\n251', '\\n369', '\\n4.5K',\n",
       "       '\\n681', '\\n700', '\\n477', '\\n333', '\\n1.9K', '\\n174', '\\n406',\n",
       "       '\\n358', '\\n555', '\\n335', '\\n856', '\\n1.8K', '\\n230', '\\n250',\n",
       "       '\\n792', '\\n400', '\\n126', '\\n342', '\\n270', '\\n529', '\\n445',\n",
       "       '\\n830', '\\n380', '\\n881', '\\n240', '\\n160', '\\n378', '\\n598',\n",
       "       '\\n433', '\\n202', 1, 2, 3, 16, 5, 208, 4, 11, 6, 19, 27, 8, 7, 13,\n",
       "       10, 12, 9, 17, 21, 15, 20, 50, 18, 38, 43, 61, 49, 25, 22, 86, 14,\n",
       "       26, 30, 60, 58], dtype=object)"
      ]
     },
     "execution_count": 32,
     "metadata": {},
     "output_type": "execute_result"
    }
   ],
   "source": [
    "df.Hits.unique()"
   ]
  },
  {
   "cell_type": "markdown",
   "metadata": {},
   "source": [
    "The above code shows that most values are integers represented as text, however there are other such as 2.9K and 1.3K which should be handled. There are some records with actual integer values. This means that this column is highly inconsistent."
   ]
  },
  {
   "cell_type": "code",
   "execution_count": 33,
   "metadata": {},
   "outputs": [],
   "source": [
    "def changes(row):\n",
    "    a = str(row['Hits']).split('\\n')    # first we convert the values to integer (since there are some int values as well) and split the string based on the new line character and create a list\n",
    "    x = [i for i in a if i!=''] # next we remove all the null characters\n",
    "    x = ''.join(x) \n",
    "    if x[-1] == 'K' or x[-1] == 'k':\n",
    "        row['Hits'] = int(float(x[:-1])*1000) # if the value is accompanied with an abbreviation K or k then we multiply it with 1000\n",
    "    else:\n",
    "        row['Hits'] = int(x)\n",
    "    return row\n",
    "    \n",
    "df = df.apply(changes,axis='columns')"
   ]
  },
  {
   "cell_type": "markdown",
   "metadata": {},
   "source": [
    "Now that most of the required columns are cleaned, let's create a column which will help us understand how long a player has been at the club"
   ]
  },
  {
   "cell_type": "code",
   "execution_count": 34,
   "metadata": {},
   "outputs": [],
   "source": [
    "df['Joined2'] = df['Joined']\n",
    "df['Joined2'] = df['Joined2'].astype('datetime64')\n",
    "df['Joined2'] = pd.to_datetime(df['Joined2'])"
   ]
  },
  {
   "cell_type": "code",
   "execution_count": 35,
   "metadata": {},
   "outputs": [],
   "source": [
    "from datetime import datetime # we import the require datetime library\n",
    "\n",
    "date_to_subtract = datetime.strptime('2020-08-14', '%Y-%m-%d').date()   #release date of fifa 21\n",
    "\n",
    "df['Club Duration'] = date_to_subtract - df['Joined2'].dt.date #indicates how long the player has been at the club with respect to the fifa21 release date\n",
    "\n",
    "def changes(row):\n",
    "    if row['Club'] == 'No club':\n",
    "        row['Club Duration'] = 'Not Available'\n",
    "    else:\n",
    "        a = int(str(row['Club Duration']).split(' ')[0])\n",
    "        years = a//365\n",
    "        months = (a%365)//30\n",
    "        days = (a%365)%30\n",
    "        if years==1:\n",
    "            y = 'Year'\n",
    "        else:\n",
    "            y='Years'\n",
    "        if months == 1:\n",
    "            m = 'Month'\n",
    "        else:\n",
    "            m = 'Months'\n",
    "        if days == 1:\n",
    "            d = 'Day'\n",
    "        else:\n",
    "            d = 'Days'\n",
    "        row['Club Duration'] = f'{years} {y} {months} {m} {days} {d}'\n",
    "    return row\n",
    "df = df.apply(changes,axis='columns')\n",
    "df.drop(['Joined2'],axis='columns',inplace=True) # we drop the column as it is no longer required"
   ]
  },
  {
   "cell_type": "markdown",
   "metadata": {},
   "source": [
    "Here, we assigned 'Not Available' as the value to club duration for players who are under no contract."
   ]
  },
  {
   "cell_type": "markdown",
   "metadata": {},
   "source": [
    "We can also create a column which indicates whether a player is on Loan or not"
   ]
  },
  {
   "cell_type": "code",
   "execution_count": 36,
   "metadata": {},
   "outputs": [],
   "source": [
    "df['On Loan'] = np.where(df['Loan Date End'].isnull(), 'No', 'Yes')"
   ]
  },
  {
   "cell_type": "markdown",
   "metadata": {},
   "source": [
    "The Loan Date End Column no longer plays any significant role and can be dropped."
   ]
  },
  {
   "cell_type": "code",
   "execution_count": 37,
   "metadata": {},
   "outputs": [],
   "source": [
    "df.drop(['Loan Date End'],axis='columns',inplace=True)"
   ]
  },
  {
   "cell_type": "markdown",
   "metadata": {},
   "source": [
    "Next, we rearrange all the columns in order of priority."
   ]
  },
  {
   "cell_type": "code",
   "execution_count": 38,
   "metadata": {},
   "outputs": [],
   "source": [
    "columns = ['ID','Name', 'Nationality', 'Age', 'Height (cm)', 'Weight (kg)', \n",
    "       'Club', 'Contract', 'Joined',\n",
    "       'Club Duration', 'On Loan','Rating', 'Potential',  \n",
    "        'Highest Rating', 'Positions', 'Best Position', \n",
    "       'Value (Euros)', 'Wages (Euros)', 'Release Clause (Euros)', 'Strong foot', 'Attacking',\n",
    "       'Crossing', 'Finishing', 'Heading Accuracy', 'Short Passing', 'Volleys',\n",
    "       'Skill', 'Dribbling', 'Curve', 'FK Accuracy', 'Long Passing',\n",
    "       'Ball Control', 'Movement', 'Acceleration', 'Sprint Speed', 'Agility',\n",
    "       'Reactions', 'Balance', 'Power', 'Shot Power', 'Jumping', 'Stamina',\n",
    "       'Strength', 'Long Shots', 'Mentality', 'Aggression', 'Interceptions',\n",
    "       'Positioning', 'Vision', 'Penalties', 'Composure', 'Defending',\n",
    "       'Marking', 'Standing Tackle', 'Sliding Tackle', 'Goalkeeping',\n",
    "       'GK Diving', 'GK Handling', 'GK Kicking', 'GK Positioning',\n",
    "       'GK Reflexes', 'Total Stats', 'Base Stats', 'Weak Foot', 'Skill Moves',\n",
    "       'Attack Workrate', 'Defense Workrate', 'International Reputation',\n",
    "       'PAC', 'SHO', 'PAS', 'DRI', 'DEF', 'PHY', 'Hits', 'photoUrl','playerUrl']\n",
    "df = df.reindex(columns,axis='columns')"
   ]
  },
  {
   "cell_type": "code",
   "execution_count": 39,
   "metadata": {},
   "outputs": [
    {
     "data": {
      "text/html": [
       "<div>\n",
       "<style scoped>\n",
       "    .dataframe tbody tr th:only-of-type {\n",
       "        vertical-align: middle;\n",
       "    }\n",
       "\n",
       "    .dataframe tbody tr th {\n",
       "        vertical-align: top;\n",
       "    }\n",
       "\n",
       "    .dataframe thead th {\n",
       "        text-align: right;\n",
       "    }\n",
       "</style>\n",
       "<table border=\"1\" class=\"dataframe\">\n",
       "  <thead>\n",
       "    <tr style=\"text-align: right;\">\n",
       "      <th></th>\n",
       "      <th>ID</th>\n",
       "      <th>Name</th>\n",
       "      <th>Nationality</th>\n",
       "      <th>Age</th>\n",
       "      <th>Height (cm)</th>\n",
       "      <th>Weight (kg)</th>\n",
       "      <th>Club</th>\n",
       "      <th>Contract</th>\n",
       "      <th>Joined</th>\n",
       "      <th>Club Duration</th>\n",
       "      <th>On Loan</th>\n",
       "      <th>Rating</th>\n",
       "      <th>Potential</th>\n",
       "      <th>Highest Rating</th>\n",
       "      <th>Positions</th>\n",
       "      <th>Best Position</th>\n",
       "      <th>Value (Euros)</th>\n",
       "      <th>Wages (Euros)</th>\n",
       "      <th>Release Clause (Euros)</th>\n",
       "      <th>Strong foot</th>\n",
       "      <th>Attacking</th>\n",
       "      <th>Crossing</th>\n",
       "      <th>Finishing</th>\n",
       "      <th>Heading Accuracy</th>\n",
       "      <th>Short Passing</th>\n",
       "      <th>Volleys</th>\n",
       "      <th>Skill</th>\n",
       "      <th>Dribbling</th>\n",
       "      <th>Curve</th>\n",
       "      <th>FK Accuracy</th>\n",
       "      <th>Long Passing</th>\n",
       "      <th>Ball Control</th>\n",
       "      <th>Movement</th>\n",
       "      <th>Acceleration</th>\n",
       "      <th>Sprint Speed</th>\n",
       "      <th>Agility</th>\n",
       "      <th>Reactions</th>\n",
       "      <th>Balance</th>\n",
       "      <th>Power</th>\n",
       "      <th>Shot Power</th>\n",
       "      <th>Jumping</th>\n",
       "      <th>Stamina</th>\n",
       "      <th>Strength</th>\n",
       "      <th>Long Shots</th>\n",
       "      <th>Mentality</th>\n",
       "      <th>Aggression</th>\n",
       "      <th>Interceptions</th>\n",
       "      <th>Positioning</th>\n",
       "      <th>Vision</th>\n",
       "      <th>Penalties</th>\n",
       "      <th>Composure</th>\n",
       "      <th>Defending</th>\n",
       "      <th>Marking</th>\n",
       "      <th>Standing Tackle</th>\n",
       "      <th>Sliding Tackle</th>\n",
       "      <th>Goalkeeping</th>\n",
       "      <th>GK Diving</th>\n",
       "      <th>GK Handling</th>\n",
       "      <th>GK Kicking</th>\n",
       "      <th>GK Positioning</th>\n",
       "      <th>GK Reflexes</th>\n",
       "      <th>Total Stats</th>\n",
       "      <th>Base Stats</th>\n",
       "      <th>Weak Foot</th>\n",
       "      <th>Skill Moves</th>\n",
       "      <th>Attack Workrate</th>\n",
       "      <th>Defense Workrate</th>\n",
       "      <th>International Reputation</th>\n",
       "      <th>PAC</th>\n",
       "      <th>SHO</th>\n",
       "      <th>PAS</th>\n",
       "      <th>DRI</th>\n",
       "      <th>DEF</th>\n",
       "      <th>PHY</th>\n",
       "      <th>Hits</th>\n",
       "      <th>photoUrl</th>\n",
       "      <th>playerUrl</th>\n",
       "    </tr>\n",
       "  </thead>\n",
       "  <tbody>\n",
       "    <tr>\n",
       "      <th>0</th>\n",
       "      <td>158023</td>\n",
       "      <td>Lionel Messi</td>\n",
       "      <td>Argentina</td>\n",
       "      <td>33</td>\n",
       "      <td>170.18</td>\n",
       "      <td>72.12</td>\n",
       "      <td>FC Barcelona</td>\n",
       "      <td>2004-2021</td>\n",
       "      <td>Jul 1, 2004</td>\n",
       "      <td>16 Years 1 Month 18 Days</td>\n",
       "      <td>No</td>\n",
       "      <td>93</td>\n",
       "      <td>93</td>\n",
       "      <td>93</td>\n",
       "      <td>RW, ST, CF</td>\n",
       "      <td>RW</td>\n",
       "      <td>675000000</td>\n",
       "      <td>560000</td>\n",
       "      <td>1384000000</td>\n",
       "      <td>Left</td>\n",
       "      <td>429</td>\n",
       "      <td>85</td>\n",
       "      <td>95</td>\n",
       "      <td>70</td>\n",
       "      <td>91</td>\n",
       "      <td>88</td>\n",
       "      <td>470</td>\n",
       "      <td>96</td>\n",
       "      <td>93</td>\n",
       "      <td>94</td>\n",
       "      <td>91</td>\n",
       "      <td>96</td>\n",
       "      <td>451</td>\n",
       "      <td>91</td>\n",
       "      <td>80</td>\n",
       "      <td>91</td>\n",
       "      <td>94</td>\n",
       "      <td>95</td>\n",
       "      <td>389</td>\n",
       "      <td>86</td>\n",
       "      <td>68</td>\n",
       "      <td>72</td>\n",
       "      <td>69</td>\n",
       "      <td>94</td>\n",
       "      <td>347</td>\n",
       "      <td>44</td>\n",
       "      <td>40</td>\n",
       "      <td>93</td>\n",
       "      <td>95</td>\n",
       "      <td>75</td>\n",
       "      <td>96</td>\n",
       "      <td>91</td>\n",
       "      <td>32</td>\n",
       "      <td>35</td>\n",
       "      <td>24</td>\n",
       "      <td>54</td>\n",
       "      <td>6</td>\n",
       "      <td>11</td>\n",
       "      <td>15</td>\n",
       "      <td>14</td>\n",
       "      <td>8</td>\n",
       "      <td>2231</td>\n",
       "      <td>466</td>\n",
       "      <td>4</td>\n",
       "      <td>4</td>\n",
       "      <td>Medium</td>\n",
       "      <td>Low</td>\n",
       "      <td>5</td>\n",
       "      <td>85</td>\n",
       "      <td>92</td>\n",
       "      <td>91</td>\n",
       "      <td>95</td>\n",
       "      <td>38</td>\n",
       "      <td>65</td>\n",
       "      <td>372</td>\n",
       "      <td>https://cdn.sofifa.net/players/158/023/21_120.png</td>\n",
       "      <td>http://sofifa.com/player/158023/lionel-messi/2...</td>\n",
       "    </tr>\n",
       "    <tr>\n",
       "      <th>1</th>\n",
       "      <td>20801</td>\n",
       "      <td>C. Ronaldo dos Santos Aveiro</td>\n",
       "      <td>Portugal</td>\n",
       "      <td>35</td>\n",
       "      <td>187.96</td>\n",
       "      <td>83.01</td>\n",
       "      <td>Juventus</td>\n",
       "      <td>2018-2022</td>\n",
       "      <td>Jul 10, 2018</td>\n",
       "      <td>2 Years 1 Month 6 Days</td>\n",
       "      <td>No</td>\n",
       "      <td>92</td>\n",
       "      <td>92</td>\n",
       "      <td>92</td>\n",
       "      <td>ST, LW</td>\n",
       "      <td>ST</td>\n",
       "      <td>46000000</td>\n",
       "      <td>220000</td>\n",
       "      <td>759000000</td>\n",
       "      <td>Right</td>\n",
       "      <td>437</td>\n",
       "      <td>84</td>\n",
       "      <td>95</td>\n",
       "      <td>90</td>\n",
       "      <td>82</td>\n",
       "      <td>86</td>\n",
       "      <td>414</td>\n",
       "      <td>88</td>\n",
       "      <td>81</td>\n",
       "      <td>76</td>\n",
       "      <td>77</td>\n",
       "      <td>92</td>\n",
       "      <td>431</td>\n",
       "      <td>87</td>\n",
       "      <td>91</td>\n",
       "      <td>87</td>\n",
       "      <td>95</td>\n",
       "      <td>71</td>\n",
       "      <td>444</td>\n",
       "      <td>94</td>\n",
       "      <td>95</td>\n",
       "      <td>84</td>\n",
       "      <td>78</td>\n",
       "      <td>93</td>\n",
       "      <td>353</td>\n",
       "      <td>63</td>\n",
       "      <td>29</td>\n",
       "      <td>95</td>\n",
       "      <td>82</td>\n",
       "      <td>84</td>\n",
       "      <td>95</td>\n",
       "      <td>84</td>\n",
       "      <td>28</td>\n",
       "      <td>32</td>\n",
       "      <td>24</td>\n",
       "      <td>58</td>\n",
       "      <td>7</td>\n",
       "      <td>11</td>\n",
       "      <td>15</td>\n",
       "      <td>14</td>\n",
       "      <td>11</td>\n",
       "      <td>2221</td>\n",
       "      <td>464</td>\n",
       "      <td>4</td>\n",
       "      <td>5</td>\n",
       "      <td>High</td>\n",
       "      <td>Low</td>\n",
       "      <td>5</td>\n",
       "      <td>89</td>\n",
       "      <td>93</td>\n",
       "      <td>81</td>\n",
       "      <td>89</td>\n",
       "      <td>35</td>\n",
       "      <td>77</td>\n",
       "      <td>344</td>\n",
       "      <td>https://cdn.sofifa.net/players/020/801/21_120.png</td>\n",
       "      <td>http://sofifa.com/player/20801/c-ronaldo-dos-s...</td>\n",
       "    </tr>\n",
       "    <tr>\n",
       "      <th>2</th>\n",
       "      <td>200389</td>\n",
       "      <td>Jan Oblak</td>\n",
       "      <td>Slovenia</td>\n",
       "      <td>27</td>\n",
       "      <td>187.96</td>\n",
       "      <td>87.09</td>\n",
       "      <td>Atlético Madrid</td>\n",
       "      <td>2014-2023</td>\n",
       "      <td>Jul 16, 2014</td>\n",
       "      <td>6 Years 1 Month 1 Day</td>\n",
       "      <td>No</td>\n",
       "      <td>91</td>\n",
       "      <td>93</td>\n",
       "      <td>91</td>\n",
       "      <td>GK</td>\n",
       "      <td>GK</td>\n",
       "      <td>75000000</td>\n",
       "      <td>125000</td>\n",
       "      <td>1594000000</td>\n",
       "      <td>Right</td>\n",
       "      <td>95</td>\n",
       "      <td>13</td>\n",
       "      <td>11</td>\n",
       "      <td>15</td>\n",
       "      <td>43</td>\n",
       "      <td>13</td>\n",
       "      <td>109</td>\n",
       "      <td>12</td>\n",
       "      <td>13</td>\n",
       "      <td>14</td>\n",
       "      <td>40</td>\n",
       "      <td>30</td>\n",
       "      <td>307</td>\n",
       "      <td>43</td>\n",
       "      <td>60</td>\n",
       "      <td>67</td>\n",
       "      <td>88</td>\n",
       "      <td>49</td>\n",
       "      <td>268</td>\n",
       "      <td>59</td>\n",
       "      <td>78</td>\n",
       "      <td>41</td>\n",
       "      <td>78</td>\n",
       "      <td>12</td>\n",
       "      <td>140</td>\n",
       "      <td>34</td>\n",
       "      <td>19</td>\n",
       "      <td>11</td>\n",
       "      <td>65</td>\n",
       "      <td>11</td>\n",
       "      <td>68</td>\n",
       "      <td>57</td>\n",
       "      <td>27</td>\n",
       "      <td>12</td>\n",
       "      <td>18</td>\n",
       "      <td>437</td>\n",
       "      <td>87</td>\n",
       "      <td>92</td>\n",
       "      <td>78</td>\n",
       "      <td>90</td>\n",
       "      <td>90</td>\n",
       "      <td>1413</td>\n",
       "      <td>489</td>\n",
       "      <td>3</td>\n",
       "      <td>1</td>\n",
       "      <td>Medium</td>\n",
       "      <td>Medium</td>\n",
       "      <td>3</td>\n",
       "      <td>87</td>\n",
       "      <td>92</td>\n",
       "      <td>78</td>\n",
       "      <td>90</td>\n",
       "      <td>52</td>\n",
       "      <td>90</td>\n",
       "      <td>86</td>\n",
       "      <td>https://cdn.sofifa.net/players/200/389/21_120.png</td>\n",
       "      <td>http://sofifa.com/player/200389/jan-oblak/210005/</td>\n",
       "    </tr>\n",
       "    <tr>\n",
       "      <th>3</th>\n",
       "      <td>192985</td>\n",
       "      <td>Kevin De Bruyne</td>\n",
       "      <td>Belgium</td>\n",
       "      <td>29</td>\n",
       "      <td>180.34</td>\n",
       "      <td>69.85</td>\n",
       "      <td>Manchester City</td>\n",
       "      <td>2015-2023</td>\n",
       "      <td>Aug 30, 2015</td>\n",
       "      <td>4 Years 11 Months 21 Days</td>\n",
       "      <td>No</td>\n",
       "      <td>91</td>\n",
       "      <td>91</td>\n",
       "      <td>91</td>\n",
       "      <td>CAM, CM</td>\n",
       "      <td>CAM</td>\n",
       "      <td>87000000</td>\n",
       "      <td>370000</td>\n",
       "      <td>161000000</td>\n",
       "      <td>Right</td>\n",
       "      <td>407</td>\n",
       "      <td>94</td>\n",
       "      <td>82</td>\n",
       "      <td>55</td>\n",
       "      <td>94</td>\n",
       "      <td>82</td>\n",
       "      <td>441</td>\n",
       "      <td>88</td>\n",
       "      <td>85</td>\n",
       "      <td>83</td>\n",
       "      <td>93</td>\n",
       "      <td>92</td>\n",
       "      <td>398</td>\n",
       "      <td>77</td>\n",
       "      <td>76</td>\n",
       "      <td>78</td>\n",
       "      <td>91</td>\n",
       "      <td>76</td>\n",
       "      <td>408</td>\n",
       "      <td>91</td>\n",
       "      <td>63</td>\n",
       "      <td>89</td>\n",
       "      <td>74</td>\n",
       "      <td>91</td>\n",
       "      <td>408</td>\n",
       "      <td>76</td>\n",
       "      <td>66</td>\n",
       "      <td>88</td>\n",
       "      <td>94</td>\n",
       "      <td>84</td>\n",
       "      <td>91</td>\n",
       "      <td>186</td>\n",
       "      <td>68</td>\n",
       "      <td>65</td>\n",
       "      <td>53</td>\n",
       "      <td>56</td>\n",
       "      <td>15</td>\n",
       "      <td>13</td>\n",
       "      <td>5</td>\n",
       "      <td>10</td>\n",
       "      <td>13</td>\n",
       "      <td>2304</td>\n",
       "      <td>485</td>\n",
       "      <td>5</td>\n",
       "      <td>4</td>\n",
       "      <td>High</td>\n",
       "      <td>High</td>\n",
       "      <td>4</td>\n",
       "      <td>76</td>\n",
       "      <td>86</td>\n",
       "      <td>93</td>\n",
       "      <td>88</td>\n",
       "      <td>64</td>\n",
       "      <td>78</td>\n",
       "      <td>163</td>\n",
       "      <td>https://cdn.sofifa.net/players/192/985/21_120.png</td>\n",
       "      <td>http://sofifa.com/player/192985/kevin-de-bruyn...</td>\n",
       "    </tr>\n",
       "    <tr>\n",
       "      <th>4</th>\n",
       "      <td>190871</td>\n",
       "      <td>Neymar da Silva Santos Jr.</td>\n",
       "      <td>Brazil</td>\n",
       "      <td>28</td>\n",
       "      <td>175.26</td>\n",
       "      <td>68.04</td>\n",
       "      <td>Paris Saint-Germain</td>\n",
       "      <td>2017-2022</td>\n",
       "      <td>Aug 3, 2017</td>\n",
       "      <td>3 Years 0 Months 12 Days</td>\n",
       "      <td>No</td>\n",
       "      <td>91</td>\n",
       "      <td>91</td>\n",
       "      <td>91</td>\n",
       "      <td>LW, CAM</td>\n",
       "      <td>LW</td>\n",
       "      <td>90000000</td>\n",
       "      <td>270000</td>\n",
       "      <td>1665000000</td>\n",
       "      <td>Right</td>\n",
       "      <td>408</td>\n",
       "      <td>85</td>\n",
       "      <td>87</td>\n",
       "      <td>62</td>\n",
       "      <td>87</td>\n",
       "      <td>87</td>\n",
       "      <td>448</td>\n",
       "      <td>95</td>\n",
       "      <td>88</td>\n",
       "      <td>89</td>\n",
       "      <td>81</td>\n",
       "      <td>95</td>\n",
       "      <td>453</td>\n",
       "      <td>94</td>\n",
       "      <td>89</td>\n",
       "      <td>96</td>\n",
       "      <td>91</td>\n",
       "      <td>83</td>\n",
       "      <td>357</td>\n",
       "      <td>80</td>\n",
       "      <td>62</td>\n",
       "      <td>81</td>\n",
       "      <td>50</td>\n",
       "      <td>84</td>\n",
       "      <td>356</td>\n",
       "      <td>51</td>\n",
       "      <td>36</td>\n",
       "      <td>87</td>\n",
       "      <td>90</td>\n",
       "      <td>92</td>\n",
       "      <td>93</td>\n",
       "      <td>94</td>\n",
       "      <td>35</td>\n",
       "      <td>30</td>\n",
       "      <td>29</td>\n",
       "      <td>59</td>\n",
       "      <td>9</td>\n",
       "      <td>9</td>\n",
       "      <td>15</td>\n",
       "      <td>15</td>\n",
       "      <td>11</td>\n",
       "      <td>2175</td>\n",
       "      <td>451</td>\n",
       "      <td>5</td>\n",
       "      <td>5</td>\n",
       "      <td>High</td>\n",
       "      <td>Medium</td>\n",
       "      <td>5</td>\n",
       "      <td>91</td>\n",
       "      <td>85</td>\n",
       "      <td>86</td>\n",
       "      <td>94</td>\n",
       "      <td>36</td>\n",
       "      <td>59</td>\n",
       "      <td>273</td>\n",
       "      <td>https://cdn.sofifa.net/players/190/871/21_120.png</td>\n",
       "      <td>http://sofifa.com/player/190871/neymar-da-silv...</td>\n",
       "    </tr>\n",
       "  </tbody>\n",
       "</table>\n",
       "</div>"
      ],
      "text/plain": [
       "       ID                          Name Nationality  Age  Height (cm)  \\\n",
       "0  158023                  Lionel Messi   Argentina   33       170.18   \n",
       "1   20801  C. Ronaldo dos Santos Aveiro    Portugal   35       187.96   \n",
       "2  200389                     Jan Oblak    Slovenia   27       187.96   \n",
       "3  192985               Kevin De Bruyne     Belgium   29       180.34   \n",
       "4  190871    Neymar da Silva Santos Jr.      Brazil   28       175.26   \n",
       "\n",
       "   Weight (kg)                 Club   Contract        Joined  \\\n",
       "0        72.12         FC Barcelona  2004-2021   Jul 1, 2004   \n",
       "1        83.01             Juventus  2018-2022  Jul 10, 2018   \n",
       "2        87.09      Atlético Madrid  2014-2023  Jul 16, 2014   \n",
       "3        69.85      Manchester City  2015-2023  Aug 30, 2015   \n",
       "4        68.04  Paris Saint-Germain  2017-2022   Aug 3, 2017   \n",
       "\n",
       "               Club Duration On Loan  Rating  Potential  Highest Rating  \\\n",
       "0   16 Years 1 Month 18 Days      No      93         93              93   \n",
       "1     2 Years 1 Month 6 Days      No      92         92              92   \n",
       "2      6 Years 1 Month 1 Day      No      91         93              91   \n",
       "3  4 Years 11 Months 21 Days      No      91         91              91   \n",
       "4   3 Years 0 Months 12 Days      No      91         91              91   \n",
       "\n",
       "    Positions Best Position  Value (Euros)  Wages (Euros)  \\\n",
       "0  RW, ST, CF            RW      675000000         560000   \n",
       "1      ST, LW            ST       46000000         220000   \n",
       "2          GK            GK       75000000         125000   \n",
       "3     CAM, CM           CAM       87000000         370000   \n",
       "4     LW, CAM            LW       90000000         270000   \n",
       "\n",
       "   Release Clause (Euros) Strong foot  Attacking  Crossing  Finishing  \\\n",
       "0              1384000000        Left        429        85         95   \n",
       "1               759000000       Right        437        84         95   \n",
       "2              1594000000       Right         95        13         11   \n",
       "3               161000000       Right        407        94         82   \n",
       "4              1665000000       Right        408        85         87   \n",
       "\n",
       "   Heading Accuracy  Short Passing  Volleys  Skill  Dribbling  Curve  \\\n",
       "0                70             91       88    470         96     93   \n",
       "1                90             82       86    414         88     81   \n",
       "2                15             43       13    109         12     13   \n",
       "3                55             94       82    441         88     85   \n",
       "4                62             87       87    448         95     88   \n",
       "\n",
       "   FK Accuracy  Long Passing  Ball Control  Movement  Acceleration  \\\n",
       "0           94            91            96       451            91   \n",
       "1           76            77            92       431            87   \n",
       "2           14            40            30       307            43   \n",
       "3           83            93            92       398            77   \n",
       "4           89            81            95       453            94   \n",
       "\n",
       "   Sprint Speed  Agility  Reactions  Balance  Power  Shot Power  Jumping  \\\n",
       "0            80       91         94       95    389          86       68   \n",
       "1            91       87         95       71    444          94       95   \n",
       "2            60       67         88       49    268          59       78   \n",
       "3            76       78         91       76    408          91       63   \n",
       "4            89       96         91       83    357          80       62   \n",
       "\n",
       "   Stamina  Strength  Long Shots  Mentality  Aggression  Interceptions  \\\n",
       "0       72        69          94        347          44             40   \n",
       "1       84        78          93        353          63             29   \n",
       "2       41        78          12        140          34             19   \n",
       "3       89        74          91        408          76             66   \n",
       "4       81        50          84        356          51             36   \n",
       "\n",
       "   Positioning  Vision  Penalties  Composure  Defending  Marking  \\\n",
       "0           93      95         75         96         91       32   \n",
       "1           95      82         84         95         84       28   \n",
       "2           11      65         11         68         57       27   \n",
       "3           88      94         84         91        186       68   \n",
       "4           87      90         92         93         94       35   \n",
       "\n",
       "   Standing Tackle  Sliding Tackle  Goalkeeping  GK Diving  GK Handling  \\\n",
       "0               35              24           54          6           11   \n",
       "1               32              24           58          7           11   \n",
       "2               12              18          437         87           92   \n",
       "3               65              53           56         15           13   \n",
       "4               30              29           59          9            9   \n",
       "\n",
       "   GK Kicking  GK Positioning  GK Reflexes  Total Stats  Base Stats  \\\n",
       "0          15              14            8         2231         466   \n",
       "1          15              14           11         2221         464   \n",
       "2          78              90           90         1413         489   \n",
       "3           5              10           13         2304         485   \n",
       "4          15              15           11         2175         451   \n",
       "\n",
       "   Weak Foot  Skill Moves Attack Workrate Defense Workrate  \\\n",
       "0          4            4          Medium              Low   \n",
       "1          4            5            High              Low   \n",
       "2          3            1          Medium           Medium   \n",
       "3          5            4            High             High   \n",
       "4          5            5            High           Medium   \n",
       "\n",
       "   International Reputation  PAC  SHO  PAS  DRI  DEF  PHY  Hits  \\\n",
       "0                         5   85   92   91   95   38   65   372   \n",
       "1                         5   89   93   81   89   35   77   344   \n",
       "2                         3   87   92   78   90   52   90    86   \n",
       "3                         4   76   86   93   88   64   78   163   \n",
       "4                         5   91   85   86   94   36   59   273   \n",
       "\n",
       "                                            photoUrl  \\\n",
       "0  https://cdn.sofifa.net/players/158/023/21_120.png   \n",
       "1  https://cdn.sofifa.net/players/020/801/21_120.png   \n",
       "2  https://cdn.sofifa.net/players/200/389/21_120.png   \n",
       "3  https://cdn.sofifa.net/players/192/985/21_120.png   \n",
       "4  https://cdn.sofifa.net/players/190/871/21_120.png   \n",
       "\n",
       "                                           playerUrl  \n",
       "0  http://sofifa.com/player/158023/lionel-messi/2...  \n",
       "1  http://sofifa.com/player/20801/c-ronaldo-dos-s...  \n",
       "2  http://sofifa.com/player/200389/jan-oblak/210005/  \n",
       "3  http://sofifa.com/player/192985/kevin-de-bruyn...  \n",
       "4  http://sofifa.com/player/190871/neymar-da-silv...  "
      ]
     },
     "execution_count": 39,
     "metadata": {},
     "output_type": "execute_result"
    }
   ],
   "source": [
    "df.head()"
   ]
  },
  {
   "cell_type": "markdown",
   "metadata": {},
   "source": [
    "Finally, we save the cleaned dataset to a csv file."
   ]
  },
  {
   "cell_type": "code",
   "execution_count": 40,
   "metadata": {},
   "outputs": [],
   "source": [
    "df.to_csv('cleaned_fifa_21_data.csv',index=False)"
   ]
  }
 ],
 "metadata": {
  "kernelspec": {
   "display_name": "Python 3",
   "language": "python",
   "name": "python3"
  },
  "language_info": {
   "codemirror_mode": {
    "name": "ipython",
    "version": 3
   },
   "file_extension": ".py",
   "mimetype": "text/x-python",
   "name": "python",
   "nbconvert_exporter": "python",
   "pygments_lexer": "ipython3",
   "version": "3.10.0"
  },
  "orig_nbformat": 4
 },
 "nbformat": 4,
 "nbformat_minor": 2
}
